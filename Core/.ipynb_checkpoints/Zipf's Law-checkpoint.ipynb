{
 "cells": [
  {
   "cell_type": "code",
   "execution_count": 15,
   "metadata": {},
   "outputs": [],
   "source": [
    "import matplotlib.pyplot as plt"
   ]
  },
  {
   "cell_type": "code",
   "execution_count": 24,
   "metadata": {},
   "outputs": [],
   "source": [
    "from sklearn.preprocessing import normalize\n",
    "from sklearn.model_selection import train_test_split\n",
    "\n",
    "from data import loader, load_preprocessing\n",
    "from knn_classifier import knn\n",
    "\n",
    "import distances\n",
    "import hott\n",
    "import numpy as np\n",
    "# Download datasets used by Kusner et al from\n",
    "# https://www.dropbox.com/sh/nf532hddgdt68ix/AABGLUiPRyXv6UL2YAcHmAFqa?dl=0\n",
    "# and put them into\n",
    "data_path = './data/'\n",
    "\n",
    "# Download GloVe 6B tokens, 300d word embeddings from\n",
    "# https://nlp.stanford.edu/projects/glove/\n",
    "# and put them into\n",
    "embeddings_path = './data/glove.6B/glove.6B.300d.txt'\n",
    "\n",
    "# Pick a dataset (uncomment the line you want)\n",
    "data_name1 = 'bbcsport-emd_tr_te_splitdict70.pkl'\n",
    "data_name2 = 'twitter-emd_tr_te_splitdict70.pkl'\n",
    "data_name3 = 'classic-emd_tr_te_splitdict70.pkl'\n",
    "data_name4 = 'ohsumed-emd_tr_te_ixdict70.pkl'\n",
    "data_name5 = 'r8-emd_tr_te3dict70.pkl'\n",
    "\n",
    "data1 = load_preprocessing(data_path + data_name1)\n",
    "data2 = load_preprocessing(data_path + data_name2)\n",
    "data3 = load_preprocessing(data_path + data_name3)\n",
    "data4 = load_preprocessing(data_path + data_name4)\n",
    "data5 = load_preprocessing(data_path + data_name5)\n",
    "X_Bow1 = data1['X']\n",
    "X_Bow2 = data2['X']\n",
    "X_Bow3 = data3['X']\n",
    "X_Bow4 = data4['X']\n",
    "X_Bow5 = data5['X']"
   ]
  },
  {
   "cell_type": "code",
   "execution_count": 25,
   "metadata": {},
   "outputs": [],
   "source": [
    "l1 = X_Bow1.sum(axis = 0)\n",
    "l2 = X_Bow2.sum(axis = 0)\n",
    "l3 = X_Bow3.sum(axis = 0)\n",
    "l4 = X_Bow4.sum(axis = 0)\n",
    "l5 = X_Bow5.sum(axis = 0)"
   ]
  },
  {
   "cell_type": "code",
   "execution_count": null,
   "metadata": {},
   "outputs": [],
   "source": [
    "l1 = l1/(l1.sum())\n",
    "l2 = l2/(l2.sum())\n",
    "l3 = l3/(l3.sum())\n",
    "l4 = l4/(l4.sum())\n",
    "l5 = l5/(l5.sum())"
   ]
  },
  {
   "cell_type": "code",
   "execution_count": 21,
   "metadata": {},
   "outputs": [],
   "source": [
    "lRank = np.flip(np.sort(l))"
   ]
  },
  {
   "cell_type": "code",
   "execution_count": 22,
   "metadata": {},
   "outputs": [
    {
     "data": {
      "text/plain": [
       "(1205,)"
      ]
     },
     "execution_count": 22,
     "metadata": {},
     "output_type": "execute_result"
    }
   ],
   "source": [
    "lRank.shape"
   ]
  },
  {
   "cell_type": "code",
   "execution_count": 23,
   "metadata": {},
   "outputs": [
    {
     "name": "stderr",
     "output_type": "stream",
     "text": [
      "c:\\users\\33617\\appdata\\local\\programs\\python\\python37\\lib\\site-packages\\ipykernel_launcher.py:1: RuntimeWarning: divide by zero encountered in log\n",
      "  \"\"\"Entry point for launching an IPython kernel.\n"
     ]
    },
    {
     "data": {
      "text/plain": [
       "[<matplotlib.lines.Line2D at 0x21af13c1388>]"
      ]
     },
     "execution_count": 23,
     "metadata": {},
     "output_type": "execute_result"
    },
    {
     "data": {
      "image/png": "[encoded data removed]",
      "text/plain": [
       "<Figure size 432x288 with 1 Axes>"
      ]
     },
     "metadata": {
      "needs_background": "light"
     },
     "output_type": "display_data"
    }
   ],
   "source": [
    "plt.plot(np.log(range(lRank.shape[0])),np.log(lRank))"
   ]
  },
  {
   "cell_type": "code",
   "execution_count": null,
   "metadata": {},
   "outputs": [],
   "source": []
  }
 ],
 "metadata": {
  "kernelspec": {
   "display_name": "Python 3",
   "language": "python",
   "name": "python3"
  },
  "language_info": {
   "codemirror_mode": {
    "name": "ipython",
    "version": 3
   },
   "file_extension": ".py",
   "mimetype": "text/x-python",
   "name": "python",
   "nbconvert_exporter": "python",
   "pygments_lexer": "ipython3",
   "version": "3.7.4"
  }
 },
 "nbformat": 4,
 "nbformat_minor": 2
}
